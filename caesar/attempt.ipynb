{
 "cells": [
  {
   "cell_type": "code",
   "execution_count": 2,
   "metadata": {},
   "outputs": [],
   "source": [
    "import string"
   ]
  },
  {
   "cell_type": "code",
   "execution_count": 6,
   "metadata": {},
   "outputs": [
    {
     "name": "stdout",
     "output_type": "stream",
     "text": [
      "dspttjohuifsvcjdpoabrkttds\n",
      "etquukpivjgtwdkeqpbcsluuet\n",
      "furvvlqjwkhuxelfrqcdtmvvfu\n",
      "gvswwmrkxlivyfmgsrdeunwwgv\n",
      "hwtxxnslymjwzgnhtsefvoxxhw\n",
      "ixuyyotmznkxahoiutfgwpyyix\n",
      "jyvzzpunaolybipjvughxqzzjy\n",
      "kzwaaqvobpmzcjqkwvhiyraakz\n",
      "laxbbrwpcqnadkrlxwijzsbbla\n",
      "mbyccsxqdrobelsmyxjkatccmb\n",
      "nczddtyrespcfmtnzyklbuddnc\n",
      "odaeeuzsftqdgnuoazlmcveeod\n",
      "pebffvatgurehovpbamndwffpe\n",
      "qfcggwbuhvsfipwqcbnoexggqf\n",
      "rgdhhxcviwtgjqxrdcopfyhhrg\n",
      "sheiiydwjxuhkrysedpqgziish\n",
      "tifjjzexkyvilsztfeqrhajjti\n",
      "ujgkkafylzwjmtaugfrsibkkuj\n",
      "vkhllbgzmaxknubvhgstjcllvk\n",
      "wlimmchanbylovcwihtukdmmwl\n",
      "xmjnndiboczmpwdxjiuvlennxm\n",
      "ynkooejcpdanqxeykjvwmfooyn\n",
      "zolppfkdqeboryfzlkwxngppzo\n",
      "apmqqglerfcpszgamlxyohqqap\n",
      "bqnrrhmfsgdqtahbnmyzpirrbq\n",
      "crossingtherubiconzaqjsscr\n"
     ]
    }
   ],
   "source": [
    "\n",
    "encrypted_flag = 'dspttjohuifsvcjdpoabrkttds'\n",
    "alphabet = list(string.ascii_lowercase)\n",
    "\n",
    "shift = 0\n",
    "for letter in alphabet:\n",
    "    flag = []\n",
    "    for char in encrypted_flag:\n",
    "        flag.append( alphabet[(alphabet.index(char) + shift) % 26] )\n",
    "    print(\"\".join(flag))\n",
    "    shift += 1\n",
    "        \n",
    "        "
   ]
  }
 ],
 "metadata": {
  "kernelspec": {
   "display_name": "Python 3",
   "language": "python",
   "name": "python3"
  },
  "language_info": {
   "codemirror_mode": {
    "name": "ipython",
    "version": 3
   },
   "file_extension": ".py",
   "mimetype": "text/x-python",
   "name": "python",
   "nbconvert_exporter": "python",
   "pygments_lexer": "ipython3",
   "version": "3.11.3"
  },
  "orig_nbformat": 4
 },
 "nbformat": 4,
 "nbformat_minor": 2
}
