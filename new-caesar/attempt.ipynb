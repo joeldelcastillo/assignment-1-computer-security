{
 "cells": [
  {
   "cell_type": "code",
   "execution_count": 1,
   "metadata": {},
   "outputs": [],
   "source": [
    "import string\n",
    "\n",
    "LOWERCASE_OFFSET = ord(\"a\")\n",
    "ALPHABET = string.ascii_lowercase[:16]"
   ]
  },
  {
   "cell_type": "markdown",
   "metadata": {},
   "source": [
    "### Not the right way\n",
    "original =  \n",
    "-              01100001\n",
    "-              0110\n",
    "-              +\n",
    "-              0001\n",
    "### Right way\n",
    "original =  \n",
    "-              01100001\n",
    "-              01100000\n",
    "-              +\n",
    "-              0001"
   ]
  },
  {
   "cell_type": "code",
   "execution_count": 7,
   "metadata": {},
   "outputs": [],
   "source": [
    "def b16_decode(enc):\n",
    "        dec = \"\"\n",
    "        for i in range(0, len(enc), 2):\n",
    "                t1 = ord(enc[i]) - LOWERCASE_OFFSET\n",
    "                t2 = ord(enc[i+1]) - LOWERCASE_OFFSET\n",
    "                dec += chr((t1 << 4) + t2)\n",
    "        return dec"
   ]
  },
  {
   "cell_type": "code",
   "execution_count": 8,
   "metadata": {},
   "outputs": [],
   "source": [
    "def shift(c, k):\n",
    "\tt1 = ord(c) - LOWERCASE_OFFSET\n",
    "\tt2 = ord(k) - LOWERCASE_OFFSET\n",
    "\treturn ALPHABET[(t1 + t2) % len(ALPHABET)]\n",
    "\n",
    "encrypted_flag = \"apbopjbobpnjpjnmnnnmnlnbamnpnononpnaaaamnlnkapndnkncamnpapncnbannaapncndnlnpna\""
   ]
  },
  {
   "cell_type": "code",
   "execution_count": 10,
   "metadata": {},
   "outputs": [
    {
     "name": "stdout",
     "output_type": "stream",
     "text": [
      "Ð\u000fÒÓÛßÐÜÝÜÛÑ\fßÞÞßÐ\u0000\fÛÚ\u000fÓÚÒ\fß\u000fÒÑ\n",
      "\u0010/\n",
      "/ ê\n",
      "íîíìâ\u001dàïïàá\u0011\u001dìë\u0010äëã\u001dà\u0010ãâ\u001eá\u0010ãäìàá\n",
      "!0\u001b01û\u001bþÿþýó.ñððñò\".ýü!õüô.ñ!ôó/ò!ôõýñò\n",
      "\u0005?\u00022\u0005\u00040\u00032\u0005\u0006\u000e\u0002\u0003\u0001\u0001\u0002\u00033?\u000e\n",
      "CR=RS\u001d=\u0010\u0011\u0010\u001f\u0015@\u0013\u0012\u0012\u0013\u0014D@\u001f\u001eC\u0017\u001e\u0016@\u0013C\u0016\u0015A\u0014C\u0016\u0017\u001f\u0013\u0014\n",
      "TcNcd.N!\"! &Q$##$%UQ /T(/'Q$T'&R%T'( $%\n",
      "et_tu?_23217b54456fb10e908b5e87c6e89156\n",
      "v`@`CDCBHsFEEFGwsBAvJAIsFvIHtGvIJBFG\n",
      "qQqTUTSYWVVWXSR[RZWZYXZ[SWX\n",
      "§§¨befedjhgghidclckhkjikldhi\n",
      "©¸¸¹svwvu{¦yxxyzª¦ut©}t|¦y©|{§z©|}uyz\n",
      "ºÉ¤ÉÊ¤·»·º·º¸º\n",
      "ËÚµÚÛµÈÌÈËÈËÉË\n",
      "ÜëÆëì¦Æ©ª©¨®Ù¬««¬­ÝÙ¨§Ü §¯Ù¬Ü¯®Ú­Ü¯ ¨¬­\n",
      "íü×üý·×º»º¹¿ê½¼¼½¾îê¹¸í±¸°ê½í°¿ë¾í°±¹½¾\n",
      "\u000eÈèËÌËÊÀûÎÍÍÎÏÿûÊÉþÂÉÁûÎþÁÀüÏþÁÂÊÎÏ\n"
     ]
    }
   ],
   "source": [
    "for key in ALPHABET:\n",
    "    plain_char = \"\"\n",
    "    for i, c in enumerate(encrypted_flag):\n",
    "        plain_char += shift(c, key[i % len(key)])\n",
    "    flag = b16_decode(plain_char)\n",
    "    print(flag)"
   ]
  }
 ],
 "metadata": {
  "kernelspec": {
   "display_name": "Python 3",
   "language": "python",
   "name": "python3"
  },
  "language_info": {
   "codemirror_mode": {
    "name": "ipython",
    "version": 3
   },
   "file_extension": ".py",
   "mimetype": "text/x-python",
   "name": "python",
   "nbconvert_exporter": "python",
   "pygments_lexer": "ipython3",
   "version": "3.11.3"
  },
  "orig_nbformat": 4
 },
 "nbformat": 4,
 "nbformat_minor": 2
}
